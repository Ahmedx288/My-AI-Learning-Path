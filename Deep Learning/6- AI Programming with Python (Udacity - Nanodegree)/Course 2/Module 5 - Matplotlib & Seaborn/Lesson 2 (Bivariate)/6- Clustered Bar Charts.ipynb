{
 "cells": [
  {
   "cell_type": "code",
   "execution_count": 1,
   "metadata": {},
   "outputs": [],
   "source": [
    "import numpy as np\n",
    "import pandas as pd\n",
    "import matplotlib.pyplot as plt\n",
    "import seaborn as sb\n",
    "\n",
    "%matplotlib inline"
   ]
  },
  {
   "cell_type": "code",
   "execution_count": 2,
   "metadata": {},
   "outputs": [
    {
     "data": {
      "text/html": [
       "<div>\n",
       "<style scoped>\n",
       "    .dataframe tbody tr th:only-of-type {\n",
       "        vertical-align: middle;\n",
       "    }\n",
       "\n",
       "    .dataframe tbody tr th {\n",
       "        vertical-align: top;\n",
       "    }\n",
       "\n",
       "    .dataframe thead th {\n",
       "        text-align: right;\n",
       "    }\n",
       "</style>\n",
       "<table border=\"1\" class=\"dataframe\">\n",
       "  <thead>\n",
       "    <tr style=\"text-align: right;\">\n",
       "      <th></th>\n",
       "      <th>id</th>\n",
       "      <th>make</th>\n",
       "      <th>model</th>\n",
       "      <th>year</th>\n",
       "      <th>VClass</th>\n",
       "      <th>drive</th>\n",
       "      <th>trans</th>\n",
       "      <th>fuelType</th>\n",
       "      <th>cylinders</th>\n",
       "      <th>displ</th>\n",
       "      <th>pv2</th>\n",
       "      <th>pv4</th>\n",
       "      <th>city</th>\n",
       "      <th>UCity</th>\n",
       "      <th>highway</th>\n",
       "      <th>UHighway</th>\n",
       "      <th>comb</th>\n",
       "      <th>co2</th>\n",
       "      <th>feScore</th>\n",
       "      <th>ghgScore</th>\n",
       "    </tr>\n",
       "  </thead>\n",
       "  <tbody>\n",
       "    <tr>\n",
       "      <th>0</th>\n",
       "      <td>32204</td>\n",
       "      <td>Nissan</td>\n",
       "      <td>GT-R</td>\n",
       "      <td>2013</td>\n",
       "      <td>Subcompact Cars</td>\n",
       "      <td>All-Wheel Drive</td>\n",
       "      <td>Automatic (AM6)</td>\n",
       "      <td>Premium Gasoline</td>\n",
       "      <td>6</td>\n",
       "      <td>3.8</td>\n",
       "      <td>79</td>\n",
       "      <td>0</td>\n",
       "      <td>16.4596</td>\n",
       "      <td>20.2988</td>\n",
       "      <td>22.5568</td>\n",
       "      <td>30.1798</td>\n",
       "      <td>18.7389</td>\n",
       "      <td>471</td>\n",
       "      <td>4</td>\n",
       "      <td>4</td>\n",
       "    </tr>\n",
       "    <tr>\n",
       "      <th>1</th>\n",
       "      <td>32205</td>\n",
       "      <td>Volkswagen</td>\n",
       "      <td>CC</td>\n",
       "      <td>2013</td>\n",
       "      <td>Compact Cars</td>\n",
       "      <td>Front-Wheel Drive</td>\n",
       "      <td>Automatic (AM-S6)</td>\n",
       "      <td>Premium Gasoline</td>\n",
       "      <td>4</td>\n",
       "      <td>2.0</td>\n",
       "      <td>94</td>\n",
       "      <td>0</td>\n",
       "      <td>21.8706</td>\n",
       "      <td>26.9770</td>\n",
       "      <td>31.0367</td>\n",
       "      <td>42.4936</td>\n",
       "      <td>25.2227</td>\n",
       "      <td>349</td>\n",
       "      <td>6</td>\n",
       "      <td>6</td>\n",
       "    </tr>\n",
       "    <tr>\n",
       "      <th>2</th>\n",
       "      <td>32206</td>\n",
       "      <td>Volkswagen</td>\n",
       "      <td>CC</td>\n",
       "      <td>2013</td>\n",
       "      <td>Compact Cars</td>\n",
       "      <td>Front-Wheel Drive</td>\n",
       "      <td>Automatic (S6)</td>\n",
       "      <td>Premium Gasoline</td>\n",
       "      <td>6</td>\n",
       "      <td>3.6</td>\n",
       "      <td>94</td>\n",
       "      <td>0</td>\n",
       "      <td>17.4935</td>\n",
       "      <td>21.2000</td>\n",
       "      <td>26.5716</td>\n",
       "      <td>35.1000</td>\n",
       "      <td>20.6716</td>\n",
       "      <td>429</td>\n",
       "      <td>5</td>\n",
       "      <td>5</td>\n",
       "    </tr>\n",
       "    <tr>\n",
       "      <th>3</th>\n",
       "      <td>32207</td>\n",
       "      <td>Volkswagen</td>\n",
       "      <td>CC 4motion</td>\n",
       "      <td>2013</td>\n",
       "      <td>Compact Cars</td>\n",
       "      <td>All-Wheel Drive</td>\n",
       "      <td>Automatic (S6)</td>\n",
       "      <td>Premium Gasoline</td>\n",
       "      <td>6</td>\n",
       "      <td>3.6</td>\n",
       "      <td>94</td>\n",
       "      <td>0</td>\n",
       "      <td>16.9415</td>\n",
       "      <td>20.5000</td>\n",
       "      <td>25.2190</td>\n",
       "      <td>33.5000</td>\n",
       "      <td>19.8774</td>\n",
       "      <td>446</td>\n",
       "      <td>5</td>\n",
       "      <td>5</td>\n",
       "    </tr>\n",
       "    <tr>\n",
       "      <th>4</th>\n",
       "      <td>32208</td>\n",
       "      <td>Chevrolet</td>\n",
       "      <td>Malibu eAssist</td>\n",
       "      <td>2013</td>\n",
       "      <td>Midsize Cars</td>\n",
       "      <td>Front-Wheel Drive</td>\n",
       "      <td>Automatic (S6)</td>\n",
       "      <td>Regular Gasoline</td>\n",
       "      <td>4</td>\n",
       "      <td>2.4</td>\n",
       "      <td>0</td>\n",
       "      <td>95</td>\n",
       "      <td>24.7726</td>\n",
       "      <td>31.9796</td>\n",
       "      <td>35.5340</td>\n",
       "      <td>51.8816</td>\n",
       "      <td>28.6813</td>\n",
       "      <td>310</td>\n",
       "      <td>8</td>\n",
       "      <td>8</td>\n",
       "    </tr>\n",
       "  </tbody>\n",
       "</table>\n",
       "</div>"
      ],
      "text/plain": [
       "      id        make           model  year           VClass  \\\n",
       "0  32204      Nissan            GT-R  2013  Subcompact Cars   \n",
       "1  32205  Volkswagen              CC  2013     Compact Cars   \n",
       "2  32206  Volkswagen              CC  2013     Compact Cars   \n",
       "3  32207  Volkswagen      CC 4motion  2013     Compact Cars   \n",
       "4  32208   Chevrolet  Malibu eAssist  2013     Midsize Cars   \n",
       "\n",
       "               drive              trans          fuelType  cylinders  displ  \\\n",
       "0    All-Wheel Drive    Automatic (AM6)  Premium Gasoline          6    3.8   \n",
       "1  Front-Wheel Drive  Automatic (AM-S6)  Premium Gasoline          4    2.0   \n",
       "2  Front-Wheel Drive     Automatic (S6)  Premium Gasoline          6    3.6   \n",
       "3    All-Wheel Drive     Automatic (S6)  Premium Gasoline          6    3.6   \n",
       "4  Front-Wheel Drive     Automatic (S6)  Regular Gasoline          4    2.4   \n",
       "\n",
       "   pv2  pv4     city    UCity  highway  UHighway     comb  co2  feScore  \\\n",
       "0   79    0  16.4596  20.2988  22.5568   30.1798  18.7389  471        4   \n",
       "1   94    0  21.8706  26.9770  31.0367   42.4936  25.2227  349        6   \n",
       "2   94    0  17.4935  21.2000  26.5716   35.1000  20.6716  429        5   \n",
       "3   94    0  16.9415  20.5000  25.2190   33.5000  19.8774  446        5   \n",
       "4    0   95  24.7726  31.9796  35.5340   51.8816  28.6813  310        8   \n",
       "\n",
       "   ghgScore  \n",
       "0         4  \n",
       "1         6  \n",
       "2         5  \n",
       "3         5  \n",
       "4         8  "
      ]
     },
     "execution_count": 2,
     "metadata": {},
     "output_type": "execute_result"
    }
   ],
   "source": [
    "# Read the CSV file\n",
    "fuel_econ = pd.read_csv('Files/fuel-econ.csv')\n",
    "fuel_econ.head()"
   ]
  },
  {
   "cell_type": "markdown",
   "metadata": {},
   "source": [
    "### Preparing the Data"
   ]
  },
  {
   "cell_type": "code",
   "execution_count": 3,
   "metadata": {},
   "outputs": [],
   "source": [
    "### Preparing the data - Part 1\n",
    "\n",
    "sedan_classes = ['Minicompact Cars', 'Subcompact Cars', 'Compact Cars', 'Midsize Cars', 'Large Cars']\n",
    "vclasses = pd.api.types.CategoricalDtype(ordered=True, categories=sedan_classes) \n",
    "fuel_econ['VClass'] = fuel_econ['VClass'].astype(vclasses);\n",
    "\n",
    "### Preparing the data - Part 2\n",
    "\n",
    "# The existing `trans` column has multiple sub-types of Automatic and Manual. \n",
    "# But, we need plain two types, either Automatic or Manual. Therefore, add a new column. \n",
    "# The Series.apply() method invokes the `lambda` function on each value of `trans` column.\n",
    "# In python, a `lambda` function is an anonymous function that can have only one expression.\n",
    "fuel_econ['trans_type'] = fuel_econ['trans'].apply(lambda x:x.split()[0])\n",
    "fuel_econ.head()"
   ]
  },
  {
   "cell_type": "markdown",
   "metadata": {},
   "source": [
    "# Clustered Bar Chart\n",
    "\n",
    "To depict the relationship between two categorical variables, we can extend the univariate bar chart seen in the previous lesson into a clustered bar chart.\n",
    "\n",
    "![](Images/Clusterd_bar_chart.png)\n",
    "\n",
    "Like a standard bar chart, we still want to depict the count of data points in each group, but each group is now a combination of **labels on two variables**.\n",
    "\n",
    "So we want to organize the bars into an order that makes the plot easy to interpret."
   ]
  },
  {
   "cell_type": "markdown",
   "metadata": {},
   "source": [
    "---\n",
    "In the last lesson, you saw how to use Seaborn's count plot function to generate a bar chart of one variable."
   ]
  },
  {
   "cell_type": "code",
   "execution_count": 11,
   "metadata": {},
   "outputs": [
    {
     "data": {
      "image/png": "[encoded data removed]",
      "text/plain": [
       "<Figure size 432x288 with 1 Axes>"
      ]
     },
     "metadata": {
      "needs_background": "light"
     },
     "output_type": "display_data"
    }
   ],
   "source": [
    "sb.countplot(data = fuel_econ, x = 'VClass');\n",
    "plt.xticks(rotation=15);"
   ]
  },
  {
   "cell_type": "markdown",
   "metadata": {},
   "source": [
    "In a clustered bar chart, bars are organized into clusters based on levels of the first variable, and then bars are ordered consistently across the second variable within each cluster.\n",
    "\n",
    "This is easiest to see with an example, using seaborn's countplot function.\\\n",
    "To take the plot from univariate to bivariate, we add the second variable to be plotted under the `\"hue\"` argument.\n",
    "\n",
    "In other words, to divide each of the individual bars into multiple bars for the different transmission types, we just need to add a `hue` parameter pointing to the **trans_type variable**."
   ]
  },
  {
   "cell_type": "code",
   "execution_count": 12,
   "metadata": {},
   "outputs": [
    {
     "data": {
      "image/png": "[encoded data removed]",
      "text/plain": [
       "<Figure size 432x288 with 1 Axes>"
      ]
     },
     "metadata": {
      "needs_background": "light"
     },
     "output_type": "display_data"
    }
   ],
   "source": [
    "sb.countplot(data = fuel_econ, x = 'VClass', hue = 'trans_type');\n",
    "plt.xticks(rotation=15);"
   ]
  },
  {
   "cell_type": "markdown",
   "metadata": {},
   "source": [
    "With the cluster bar chart, we can see clearly that:\n",
    "- mini compact cars have the closest ratio between automatic and manual transmissions,\n",
    "- while large cars had the most distant ratio."
   ]
  },
  {
   "cell_type": "markdown",
   "metadata": {},
   "source": [
    "# Alternative Approach - Heat Maps"
   ]
  },
  {
   "cell_type": "markdown",
   "metadata": {},
   "source": [
    "One alternative way of depicting the relationship between two categorical variables is through a heat map.\\\n",
    "Heat maps were introduced earlier as the 2-D version of a histogram; here, we're using them as the 2-D version of a bar chart.\n",
    "\n",
    "**Important Note:** The seaborn function `heatmap()` is at home with this type of heat map implementation, but the input arguments are unlike most of the visualization functions that have been introduced in this course.\\\n",
    "**$\\color{red}{\\text{Instead of providing the original dataframe}}$**, we need to **$\\color{green}{\\text{summarize the counts into a matrix}}$** that will then be plotted."
   ]
  },
  {
   "cell_type": "code",
   "execution_count": 23,
   "metadata": {},
   "outputs": [
    {
     "data": {
      "text/plain": [
       "VClass            trans_type\n",
       "Minicompact Cars  Automatic     188\n",
       "                  Manual        133\n",
       "Subcompact Cars   Automatic     502\n",
       "                  Manual        171\n",
       "Compact Cars      Automatic     784\n",
       "                  Manual        338\n",
       "Midsize Cars      Automatic     989\n",
       "                  Manual        199\n",
       "Large Cars        Automatic     605\n",
       "                  Manual         20\n",
       "dtype: int64"
      ]
     },
     "execution_count": 23,
     "metadata": {},
     "output_type": "execute_result"
    }
   ],
   "source": [
    "# Use group_by() and size() to get the number of cars and each combination of the two variable levels as a pandas Series\n",
    "ct_counts = fuel_econ.groupby(['VClass', 'trans_type']).size() \n",
    "# If you used \"sum\", this will sum the the actual values in the dataframe variables(columns),\n",
    "# we only need the \"count\" of entries, which we get by using the `size` function.\n",
    "\n",
    "ct_counts"
   ]
  },
  {
   "cell_type": "code",
   "execution_count": 24,
   "metadata": {},
   "outputs": [
    {
     "data": {
      "text/html": [
       "<div>\n",
       "<style scoped>\n",
       "    .dataframe tbody tr th:only-of-type {\n",
       "        vertical-align: middle;\n",
       "    }\n",
       "\n",
       "    .dataframe tbody tr th {\n",
       "        vertical-align: top;\n",
       "    }\n",
       "\n",
       "    .dataframe thead th {\n",
       "        text-align: right;\n",
       "    }\n",
       "</style>\n",
       "<table border=\"1\" class=\"dataframe\">\n",
       "  <thead>\n",
       "    <tr style=\"text-align: right;\">\n",
       "      <th></th>\n",
       "      <th>VClass</th>\n",
       "      <th>trans_type</th>\n",
       "      <th>count</th>\n",
       "    </tr>\n",
       "  </thead>\n",
       "  <tbody>\n",
       "    <tr>\n",
       "      <th>0</th>\n",
       "      <td>Minicompact Cars</td>\n",
       "      <td>Automatic</td>\n",
       "      <td>188</td>\n",
       "    </tr>\n",
       "    <tr>\n",
       "      <th>1</th>\n",
       "      <td>Minicompact Cars</td>\n",
       "      <td>Manual</td>\n",
       "      <td>133</td>\n",
       "    </tr>\n",
       "    <tr>\n",
       "      <th>2</th>\n",
       "      <td>Subcompact Cars</td>\n",
       "      <td>Automatic</td>\n",
       "      <td>502</td>\n",
       "    </tr>\n",
       "    <tr>\n",
       "      <th>3</th>\n",
       "      <td>Subcompact Cars</td>\n",
       "      <td>Manual</td>\n",
       "      <td>171</td>\n",
       "    </tr>\n",
       "    <tr>\n",
       "      <th>4</th>\n",
       "      <td>Compact Cars</td>\n",
       "      <td>Automatic</td>\n",
       "      <td>784</td>\n",
       "    </tr>\n",
       "    <tr>\n",
       "      <th>5</th>\n",
       "      <td>Compact Cars</td>\n",
       "      <td>Manual</td>\n",
       "      <td>338</td>\n",
       "    </tr>\n",
       "    <tr>\n",
       "      <th>6</th>\n",
       "      <td>Midsize Cars</td>\n",
       "      <td>Automatic</td>\n",
       "      <td>989</td>\n",
       "    </tr>\n",
       "    <tr>\n",
       "      <th>7</th>\n",
       "      <td>Midsize Cars</td>\n",
       "      <td>Manual</td>\n",
       "      <td>199</td>\n",
       "    </tr>\n",
       "    <tr>\n",
       "      <th>8</th>\n",
       "      <td>Large Cars</td>\n",
       "      <td>Automatic</td>\n",
       "      <td>605</td>\n",
       "    </tr>\n",
       "    <tr>\n",
       "      <th>9</th>\n",
       "      <td>Large Cars</td>\n",
       "      <td>Manual</td>\n",
       "      <td>20</td>\n",
       "    </tr>\n",
       "  </tbody>\n",
       "</table>\n",
       "</div>"
      ],
      "text/plain": [
       "             VClass trans_type  count\n",
       "0  Minicompact Cars  Automatic    188\n",
       "1  Minicompact Cars     Manual    133\n",
       "2   Subcompact Cars  Automatic    502\n",
       "3   Subcompact Cars     Manual    171\n",
       "4      Compact Cars  Automatic    784\n",
       "5      Compact Cars     Manual    338\n",
       "6      Midsize Cars  Automatic    989\n",
       "7      Midsize Cars     Manual    199\n",
       "8        Large Cars  Automatic    605\n",
       "9        Large Cars     Manual     20"
      ]
     },
     "execution_count": 24,
     "metadata": {},
     "output_type": "execute_result"
    }
   ],
   "source": [
    "# Use Series.reset_index() to convert a series into a dataframe object\n",
    "ct_counts = ct_counts.reset_index(name='count')\n",
    "ct_counts"
   ]
  },
  {
   "cell_type": "code",
   "execution_count": 25,
   "metadata": {},
   "outputs": [
    {
     "data": {
      "text/html": [
       "<div>\n",
       "<style scoped>\n",
       "    .dataframe tbody tr th:only-of-type {\n",
       "        vertical-align: middle;\n",
       "    }\n",
       "\n",
       "    .dataframe tbody tr th {\n",
       "        vertical-align: top;\n",
       "    }\n",
       "\n",
       "    .dataframe thead th {\n",
       "        text-align: right;\n",
       "    }\n",
       "</style>\n",
       "<table border=\"1\" class=\"dataframe\">\n",
       "  <thead>\n",
       "    <tr style=\"text-align: right;\">\n",
       "      <th>trans_type</th>\n",
       "      <th>Automatic</th>\n",
       "      <th>Manual</th>\n",
       "    </tr>\n",
       "    <tr>\n",
       "      <th>VClass</th>\n",
       "      <th></th>\n",
       "      <th></th>\n",
       "    </tr>\n",
       "  </thead>\n",
       "  <tbody>\n",
       "    <tr>\n",
       "      <th>Minicompact Cars</th>\n",
       "      <td>188</td>\n",
       "      <td>133</td>\n",
       "    </tr>\n",
       "    <tr>\n",
       "      <th>Subcompact Cars</th>\n",
       "      <td>502</td>\n",
       "      <td>171</td>\n",
       "    </tr>\n",
       "    <tr>\n",
       "      <th>Compact Cars</th>\n",
       "      <td>784</td>\n",
       "      <td>338</td>\n",
       "    </tr>\n",
       "    <tr>\n",
       "      <th>Midsize Cars</th>\n",
       "      <td>989</td>\n",
       "      <td>199</td>\n",
       "    </tr>\n",
       "    <tr>\n",
       "      <th>Large Cars</th>\n",
       "      <td>605</td>\n",
       "      <td>20</td>\n",
       "    </tr>\n",
       "  </tbody>\n",
       "</table>\n",
       "</div>"
      ],
      "text/plain": [
       "trans_type        Automatic  Manual\n",
       "VClass                             \n",
       "Minicompact Cars        188     133\n",
       "Subcompact Cars         502     171\n",
       "Compact Cars            784     338\n",
       "Midsize Cars            989     199\n",
       "Large Cars              605      20"
      ]
     },
     "execution_count": 25,
     "metadata": {},
     "output_type": "execute_result"
    }
   ],
   "source": [
    "# Remember Melt function? here another sister, the pivot function.\n",
    "\n",
    "# Use DataFrame.pivot() to rearrange the data, to have vehicle class on rows\n",
    "ct_counts = ct_counts.pivot(index = 'VClass', columns = 'trans_type', values = 'count')\n",
    "ct_counts"
   ]
  },
  {
   "cell_type": "code",
   "execution_count": 26,
   "metadata": {},
   "outputs": [
    {
     "data": {
      "text/plain": [
       "<AxesSubplot:xlabel='trans_type', ylabel='VClass'>"
      ]
     },
     "execution_count": 26,
     "metadata": {},
     "output_type": "execute_result"
    },
    {
     "data": {
      "image/png": "[encoded data removed]",
      "text/plain": [
       "<Figure size 432x288 with 2 Axes>"
      ]
     },
     "metadata": {
      "needs_background": "light"
     },
     "output_type": "display_data"
    }
   ],
   "source": [
    "sb.heatmap(ct_counts)"
   ]
  },
  {
   "cell_type": "markdown",
   "metadata": {},
   "source": [
    "The heat map tells the same story as the clustered bar chart."
   ]
  },
  {
   "cell_type": "code",
   "execution_count": 27,
   "metadata": {},
   "outputs": [
    {
     "data": {
      "text/plain": [
       "<AxesSubplot:xlabel='trans_type', ylabel='VClass'>"
      ]
     },
     "execution_count": 27,
     "metadata": {},
     "output_type": "execute_result"
    },
    {
     "data": {
      "image/png": "[encoded data removed]",
      "text/plain": [
       "<Figure size 432x288 with 2 Axes>"
      ]
     },
     "metadata": {
      "needs_background": "light"
     },
     "output_type": "display_data"
    }
   ],
   "source": [
    "sb.heatmap(ct_counts, annot = True, fmt = 'd')"
   ]
  },
  {
   "cell_type": "markdown",
   "metadata": {},
   "source": [
    "`annot = True` makes it so annotations show up in each cell, but the default string formatting only goes to two digits of precision.\n",
    "\n",
    "Adding `fmt = 'd'` means that annotations will all be formatted as integers instead.\\\n",
    "You can use `fmt = '.0f'` if you have any cells with no counts, in order to account for `NaN`s."
   ]
  },
  {
   "cell_type": "code",
   "execution_count": null,
   "metadata": {},
   "outputs": [],
   "source": []
  }
 ],
 "metadata": {
  "kernelspec": {
   "display_name": "Python 3",
   "language": "python",
   "name": "python3"
  },
  "language_info": {
   "codemirror_mode": {
    "name": "ipython",
    "version": 3
   },
   "file_extension": ".py",
   "mimetype": "text/x-python",
   "name": "python",
   "nbconvert_exporter": "python",
   "pygments_lexer": "ipython3",
   "version": "3.8.5"
  }
 },
 "nbformat": 4,
 "nbformat_minor": 4
}
