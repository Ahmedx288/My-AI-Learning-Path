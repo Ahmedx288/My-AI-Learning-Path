{
 "cells": [
  {
   "cell_type": "code",
   "execution_count": 2,
   "metadata": {},
   "outputs": [],
   "source": [
    "import numpy as np"
   ]
  },
  {
   "cell_type": "markdown",
   "metadata": {},
   "source": [
    "# 1-D Access & Modify"
   ]
  },
  {
   "cell_type": "code",
   "execution_count": 3,
   "metadata": {},
   "outputs": [
    {
     "name": "stdout",
     "output_type": "stream",
     "text": [
      "[1 2 3 4 5 6 7 8 9]\n",
      "a[0]: 1\n",
      "a[5]: 6\n",
      "a[-1]: 9\n",
      "4\n",
      "[  1   2   3 100   5   6   7   8   9]\n"
     ]
    }
   ],
   "source": [
    "a = np.arange(1,10)\n",
    "\n",
    "print(a)\n",
    "print(f'a[0]: {a[0]}')\n",
    "print(f'a[5]: {a[5]}')\n",
    "print(f'a[-1]: {a[-1]}')\n",
    "\n",
    "x = a[3]\n",
    "print(x)\n",
    "a[3] = 100\n",
    "print(a)"
   ]
  },
  {
   "cell_type": "markdown",
   "metadata": {},
   "source": [
    "# 2-D Access & Modify"
   ]
  },
  {
   "cell_type": "code",
   "execution_count": 4,
   "metadata": {},
   "outputs": [
    {
     "name": "stdout",
     "output_type": "stream",
     "text": [
      "[[1 2 3]\n",
      " [4 5 6]\n",
      " [7 8 9]]\n"
     ]
    }
   ],
   "source": [
    "b = np.arange(1,10).reshape(3,3)\n",
    "print(b)"
   ]
  },
  {
   "cell_type": "markdown",
   "metadata": {},
   "source": [
    "Working with specific elements "
   ]
  },
  {
   "cell_type": "code",
   "execution_count": 5,
   "metadata": {},
   "outputs": [
    {
     "name": "stdout",
     "output_type": "stream",
     "text": [
      "b[0]: [1 2 3] \"complete row\"\n",
      "b[2]: [7 8 9] \"complete row\"\n",
      "b[-1]: [7 8 9] \"complete row\"\n",
      "\n",
      "Both ways works the same for higher ranks:\n",
      "python like: b[-1][0]: 7\n",
      "numpy like: b[-1, 0]: 7\n"
     ]
    }
   ],
   "source": [
    "print(f'b[0]: {b[0]} \"complete row\"')\n",
    "print(f'b[2]: {b[2]} \"complete row\"')\n",
    "print(f'b[-1]: {b[-1]} \"complete row\"')\n",
    "\n",
    "print(\"\\nBoth ways works the same for higher ranks:\")\n",
    "print(f'python like: b[-1][0]: {b[-1][0]}')\n",
    "print(f'numpy like: b[-1, 0]: {b[-1, 0]}')"
   ]
  },
  {
   "cell_type": "markdown",
   "metadata": {},
   "source": [
    "Woking with rows and columns\n",
    "* **For b[:][0]:** b[:] returns the whole matrix and [0] is just a regular index.\n",
    "* **For b[:, 0]:** here you are selecting the whole rows **\"b[:]\"** then the first column **\"b[:, 0]**. The result is the intersection between the matrix rows and the first column."
   ]
  },
  {
   "cell_type": "markdown",
   "metadata": {},
   "source": [
    "![Explaining](Images/L3-Matrix_Access.png)"
   ]
  },
  {
   "cell_type": "code",
   "execution_count": 6,
   "metadata": {},
   "outputs": [
    {
     "name": "stdout",
     "output_type": "stream",
     "text": [
      "Notic that when it cames to slicing the results is diffrent:\n",
      "python like: b[:][0]: [1 2 3]\n",
      "numpy like: b[:, 1]: [1 4 7]\n"
     ]
    }
   ],
   "source": [
    "print(\"Notic that when it cames to slicing the results is diffrent:\")\n",
    "print(f'python like: b[:][0]: {b[:][0]}')\n",
    "print(f'numpy like: b[:, 1]: {b[:, 0]}')"
   ]
  },
  {
   "cell_type": "code",
   "execution_count": 7,
   "metadata": {},
   "outputs": [
    {
     "name": "stdout",
     "output_type": "stream",
     "text": [
      "[[3 2 1]\n",
      " [4 5 6]\n",
      " [7 8 9]]\n",
      "\n",
      " [[100 100 100]\n",
      " [  4   5   6]\n",
      " [  7   8   9]]\n"
     ]
    }
   ],
   "source": [
    "b[:][0] = [3, 2, 1]\n",
    "print(b)\n",
    "b[0, :] = 100 # same as [100, 100, 100] (numpy broadcasting)\n",
    "print(\"\\n\", b)"
   ]
  },
  {
   "cell_type": "markdown",
   "metadata": {},
   "source": [
    "# Delete Elements\n",
    "* **np.delete(ndarray, [list of rows-cols- indices], axis):** delete rows or cols according to a list of indices.\n",
    "* **Axis:** Axis along which we want to delete.\\\n",
    "If 1 then delete columns.\\\n",
    "If 0 then delete rows. **(default)**\\\n",
    "If None then **flatten the array** and then apply delete on it."
   ]
  },
  {
   "cell_type": "code",
   "execution_count": 8,
   "metadata": {},
   "outputs": [
    {
     "name": "stdout",
     "output_type": "stream",
     "text": [
      "[[1 2 3]\n",
      " [4 5 6]\n",
      " [7 8 9]]\n"
     ]
    }
   ],
   "source": [
    "c = np.arange(1, 10).reshape((3,3))\n",
    "print(c)"
   ]
  },
  {
   "cell_type": "code",
   "execution_count": 9,
   "metadata": {},
   "outputs": [
    {
     "name": "stdout",
     "output_type": "stream",
     "text": [
      "[[4 5 6]\n",
      " [7 8 9]]\n"
     ]
    }
   ],
   "source": [
    "c_deleted_rows = np.delete(c, [0], axis=0)\n",
    "print(c_deleted_rows)"
   ]
  },
  {
   "cell_type": "code",
   "execution_count": 10,
   "metadata": {},
   "outputs": [
    {
     "name": "stdout",
     "output_type": "stream",
     "text": [
      "[[3]\n",
      " [6]\n",
      " [9]]\n"
     ]
    }
   ],
   "source": [
    "c_deleted_cols = np.delete(c, [0, 1], axis=1)\n",
    "print(c_deleted_cols)"
   ]
  },
  {
   "cell_type": "code",
   "execution_count": 11,
   "metadata": {},
   "outputs": [
    {
     "name": "stdout",
     "output_type": "stream",
     "text": [
      "[1 2 3 4 5 6 7 8 9]\n",
      "[2 5 6 7 8 9]\n"
     ]
    }
   ],
   "source": [
    "c_deleted_items = np.delete(c, [0,2,3])\n",
    "print(c.reshape(c.size)) #flatten the array\n",
    "print(c_deleted_items) #Notice that the array is falttened and no longer be a matrix."
   ]
  },
  {
   "cell_type": "markdown",
   "metadata": {},
   "source": [
    "# Append Elements\n",
    "* **np.delete(ndarray, [list of items with a correct shape], axis):** delete rows or cols according to a list of indices.\n",
    "\n",
    "**Note:** Same as delete function, if no axis is specified the array will be flattened."
   ]
  },
  {
   "cell_type": "code",
   "execution_count": 12,
   "metadata": {},
   "outputs": [
    {
     "name": "stdout",
     "output_type": "stream",
     "text": [
      "[[1 2 3]\n",
      " [4 5 6]\n",
      " [7 8 9]]\n"
     ]
    }
   ],
   "source": [
    "d = np.arange(1,10).reshape((3,3))\n",
    "print(d)"
   ]
  },
  {
   "cell_type": "code",
   "execution_count": 13,
   "metadata": {},
   "outputs": [
    {
     "data": {
      "text/plain": [
       "array([[1, 2, 3],\n",
       "       [4, 5, 6],\n",
       "       [7, 8, 9],\n",
       "       [1, 2, 3]])"
      ]
     },
     "execution_count": 13,
     "metadata": {},
     "output_type": "execute_result"
    }
   ],
   "source": [
    "#append a row to this (3,3) matrix\n",
    "np.append(d, [[1,2,3]], axis=0)\n",
    "\n",
    "# notice that the shape of [ [1,2,3] ] is (1,3)\n",
    "# which is the correct shape of a row for this matrix."
   ]
  },
  {
   "cell_type": "code",
   "execution_count": 14,
   "metadata": {},
   "outputs": [
    {
     "data": {
      "text/plain": [
       "array([[1, 2, 3, 1],\n",
       "       [4, 5, 6, 2],\n",
       "       [7, 8, 9, 3]])"
      ]
     },
     "execution_count": 14,
     "metadata": {},
     "output_type": "execute_result"
    }
   ],
   "source": [
    "#append a col to this (3,3) matrix\n",
    "np.append(d, [[1], [2], [3]], axis=1)\n",
    "\n",
    "# notice that the shape of [[1], [2], [3]] is (1,3)\n",
    "# which is the correct shape of a row for this matrix.\n",
    "# [[1],         [[1], [2], [3]]\n",
    "#  [2],\n",
    "#  [3]]"
   ]
  },
  {
   "cell_type": "code",
   "execution_count": 15,
   "metadata": {},
   "outputs": [
    {
     "data": {
      "text/plain": [
       "array([1, 2, 3, 4, 5, 6, 7, 8, 9, 1, 2, 3])"
      ]
     },
     "execution_count": 15,
     "metadata": {},
     "output_type": "execute_result"
    }
   ],
   "source": [
    "np.append(d, [1,2,3]) #flattend"
   ]
  },
  {
   "cell_type": "markdown",
   "metadata": {},
   "source": [
    "# Insert Elements\n",
    "* **np.insert(ndarray, index, [list of elements], axis):** specifiy an index to start inserting values after it."
   ]
  },
  {
   "cell_type": "code",
   "execution_count": 16,
   "metadata": {
    "scrolled": true
   },
   "outputs": [
    {
     "name": "stdout",
     "output_type": "stream",
     "text": [
      "[[1 2 3]\n",
      " [4 5 6]\n",
      " [7 8 9]]\n"
     ]
    }
   ],
   "source": [
    "e = np.arange(1, 10).reshape((3,3))\n",
    "print(e)"
   ]
  },
  {
   "cell_type": "code",
   "execution_count": 18,
   "metadata": {},
   "outputs": [
    {
     "data": {
      "text/plain": [
       "array([1, 2, 3, 1, 2, 3, 4, 5, 6, 7, 8, 9])"
      ]
     },
     "execution_count": 18,
     "metadata": {},
     "output_type": "execute_result"
    }
   ],
   "source": [
    "np.insert(e, 0, [1,2,3]) #for array e insert starting from index 0 the elements [1,2,3]\n",
    "\n",
    "np.insert(e, [0], [1,2,3]) #for array e insert starting from index 0 the elements [1,2,3]\n",
    "\n",
    "np.insert(e, 0, [10,11,12], axis=0) #for array e, insert the elements [10,11,12] at index 0 as a row (axis 0)\n",
    "\n",
    "np.insert(e, [0], [10,11,12], axis=0) #for array e, insert the elements [10,11,12] at index 0 as a row (axis 0)\n",
    "\n",
    "np.insert(e, [0], [[10,11,12]], axis=0)\n",
    "\n",
    "np.insert(e, 0, [[10,11,12]], axis=0)"
   ]
  },
  {
   "cell_type": "code",
   "execution_count": 36,
   "metadata": {},
   "outputs": [
    {
     "data": {
      "text/plain": [
       "array([[10, 11, 12],\n",
       "       [ 1,  2,  3],\n",
       "       [ 4,  5,  6],\n",
       "       [10, 11, 12],\n",
       "       [ 7,  8,  9]])"
      ]
     },
     "execution_count": 36,
     "metadata": {},
     "output_type": "execute_result"
    }
   ],
   "source": [
    "np.insert(e, [0,2], [10,11,12], axis=0) #for array e, insert the elements [10,11,12] at index 0 as a row (axis 0)\n",
    "\n",
    "np.insert(e, [0,2], [[10,11,12]], axis=0)"
   ]
  },
  {
   "cell_type": "code",
   "execution_count": 30,
   "metadata": {},
   "outputs": [
    {
     "data": {
      "text/plain": [
       "array([[10,  1,  2,  3],\n",
       "       [11,  4,  5,  6],\n",
       "       [12,  7,  8,  9]])"
      ]
     },
     "execution_count": 30,
     "metadata": {},
     "output_type": "execute_result"
    }
   ],
   "source": [
    "np.insert(e, 0, [10,11,12], axis=1) #for array e, insert the elements [10,11,12] at index 0 as a col (axis 1)"
   ]
  },
  {
   "cell_type": "code",
   "execution_count": 37,
   "metadata": {},
   "outputs": [
    {
     "data": {
      "text/plain": [
       "array([[10, 11, 12,  1,  2,  3],\n",
       "       [10, 11, 12,  4,  5,  6],\n",
       "       [10, 11, 12,  7,  8,  9]])"
      ]
     },
     "execution_count": 37,
     "metadata": {},
     "output_type": "execute_result"
    }
   ],
   "source": [
    "np.insert(e, [0], [10,11,12], axis=1) #for array e, insert the elements [10,11,12] at index 0 as a col (axis 1)"
   ]
  },
  {
   "cell_type": "code",
   "execution_count": 41,
   "metadata": {},
   "outputs": [
    {
     "data": {
      "text/plain": [
       "array([[10, 11, 12,  1,  2,  3],\n",
       "       [10, 11, 12,  4,  5,  6],\n",
       "       [10, 11, 12,  7,  8,  9]])"
      ]
     },
     "execution_count": 41,
     "metadata": {},
     "output_type": "execute_result"
    }
   ],
   "source": [
    "np.insert(e, 0, [[10],[11],[12]], axis=1)"
   ]
  },
  {
   "cell_type": "code",
   "execution_count": 38,
   "metadata": {},
   "outputs": [
    {
     "data": {
      "text/plain": [
       "array([[10,  1,  2,  3],\n",
       "       [11,  4,  5,  6],\n",
       "       [12,  7,  8,  9]])"
      ]
     },
     "execution_count": 38,
     "metadata": {},
     "output_type": "execute_result"
    }
   ],
   "source": [
    "np.insert(e, [0], [[10],[11],[12]], axis=1) #for array e, insert the elements [10,11,12] at index 0 as a col (axis 1)"
   ]
  },
  {
   "cell_type": "code",
   "execution_count": 40,
   "metadata": {},
   "outputs": [
    {
     "data": {
      "text/plain": [
       "array([[10,  1,  2, 10,  3],\n",
       "       [11,  4,  5, 11,  6],\n",
       "       [12,  7,  8, 12,  9]])"
      ]
     },
     "execution_count": 40,
     "metadata": {},
     "output_type": "execute_result"
    }
   ],
   "source": [
    "np.insert(e, [0,2], [[10],[11],[12]], axis=1) #for array e, insert the elements [10,11,12] at index 0 as a col (axis 1)"
   ]
  },
  {
   "cell_type": "code",
   "execution_count": 42,
   "metadata": {},
   "outputs": [
    {
     "ename": "ValueError",
     "evalue": "shape mismatch: value array of shape (3,) could not be broadcast to indexing result of shape (2,3)",
     "output_type": "error",
     "traceback": [
      "\u001b[1;31m---------------------------------------------------------------------------\u001b[0m",
      "\u001b[1;31mValueError\u001b[0m                                Traceback (most recent call last)",
      "\u001b[1;32m<ipython-input-42-a7ae562f20c6>\u001b[0m in \u001b[0;36m<module>\u001b[1;34m\u001b[0m\n\u001b[1;32m----> 1\u001b[1;33m \u001b[0mnp\u001b[0m\u001b[1;33m.\u001b[0m\u001b[0minsert\u001b[0m\u001b[1;33m(\u001b[0m\u001b[0me\u001b[0m\u001b[1;33m,\u001b[0m \u001b[1;33m[\u001b[0m\u001b[1;36m0\u001b[0m\u001b[1;33m,\u001b[0m\u001b[1;36m2\u001b[0m\u001b[1;33m]\u001b[0m\u001b[1;33m,\u001b[0m \u001b[1;33m[\u001b[0m\u001b[1;36m10\u001b[0m\u001b[1;33m,\u001b[0m\u001b[1;36m11\u001b[0m\u001b[1;33m,\u001b[0m\u001b[1;36m12\u001b[0m\u001b[1;33m]\u001b[0m\u001b[1;33m,\u001b[0m \u001b[0maxis\u001b[0m\u001b[1;33m=\u001b[0m\u001b[1;36m1\u001b[0m\u001b[1;33m)\u001b[0m\u001b[1;33m\u001b[0m\u001b[1;33m\u001b[0m\u001b[0m\n\u001b[0m",
      "\u001b[1;32m<__array_function__ internals>\u001b[0m in \u001b[0;36minsert\u001b[1;34m(*args, **kwargs)\u001b[0m\n",
      "\u001b[1;32m~\\anaconda3\\lib\\site-packages\\numpy\\lib\\function_base.py\u001b[0m in \u001b[0;36minsert\u001b[1;34m(arr, obj, values, axis)\u001b[0m\n\u001b[0;32m   4602\u001b[0m     \u001b[0mslobj\u001b[0m\u001b[1;33m[\u001b[0m\u001b[0maxis\u001b[0m\u001b[1;33m]\u001b[0m \u001b[1;33m=\u001b[0m \u001b[0mindices\u001b[0m\u001b[1;33m\u001b[0m\u001b[1;33m\u001b[0m\u001b[0m\n\u001b[0;32m   4603\u001b[0m     \u001b[0mslobj2\u001b[0m\u001b[1;33m[\u001b[0m\u001b[0maxis\u001b[0m\u001b[1;33m]\u001b[0m \u001b[1;33m=\u001b[0m \u001b[0mold_mask\u001b[0m\u001b[1;33m\u001b[0m\u001b[1;33m\u001b[0m\u001b[0m\n\u001b[1;32m-> 4604\u001b[1;33m     \u001b[0mnew\u001b[0m\u001b[1;33m[\u001b[0m\u001b[0mtuple\u001b[0m\u001b[1;33m(\u001b[0m\u001b[0mslobj\u001b[0m\u001b[1;33m)\u001b[0m\u001b[1;33m]\u001b[0m \u001b[1;33m=\u001b[0m \u001b[0mvalues\u001b[0m\u001b[1;33m\u001b[0m\u001b[1;33m\u001b[0m\u001b[0m\n\u001b[0m\u001b[0;32m   4605\u001b[0m     \u001b[0mnew\u001b[0m\u001b[1;33m[\u001b[0m\u001b[0mtuple\u001b[0m\u001b[1;33m(\u001b[0m\u001b[0mslobj2\u001b[0m\u001b[1;33m)\u001b[0m\u001b[1;33m]\u001b[0m \u001b[1;33m=\u001b[0m \u001b[0marr\u001b[0m\u001b[1;33m\u001b[0m\u001b[1;33m\u001b[0m\u001b[0m\n\u001b[0;32m   4606\u001b[0m \u001b[1;33m\u001b[0m\u001b[0m\n",
      "\u001b[1;31mValueError\u001b[0m: shape mismatch: value array of shape (3,) could not be broadcast to indexing result of shape (2,3)"
     ]
    }
   ],
   "source": [
    "np.insert(e, [0,2], [10,11,12], axis=1)"
   ]
  },
  {
   "cell_type": "markdown",
   "metadata": {},
   "source": [
    "# Concatinating Arrays\n",
    "* vstack(ndarray, ndarray): vertical stacking, stack matrices on top of each other. (top + bottom)\n",
    "* hstack(ndarray, ndarray): horizontal stacking, stack marices side by side. (left + right)\n",
    "\n",
    "**Note that the shapes of staking sides are important.**"
   ]
  },
  {
   "cell_type": "code",
   "execution_count": 56,
   "metadata": {},
   "outputs": [
    {
     "name": "stdout",
     "output_type": "stream",
     "text": [
      "[[1 2]\n",
      " [3 4]\n",
      " [5 6]]\n",
      "shape error\n",
      " all the input array dimensions for the concatenation axis must match exactly, but along dimension 1, the array at index 0 has size 3 and the array at index 1 has size 2\n"
     ]
    }
   ],
   "source": [
    "w = np.array([1,2])               # shape(2,) ---> (1,2) broadcast\n",
    "x = np.array([[3,4],[5,6]])       # shape(2,2)\n",
    "error = np.array([1,2,3])         # shape(3,) ---> (1,3)\n",
    "\n",
    "print(np.vstack((w,x))) #notic that the columns shape is what matters.\n",
    "\n",
    "try:\n",
    "    print(np.vstack((error,x))) # (1,\"3\") + (2,\"2\")\n",
    "except Exception as e:\n",
    "    print(\"shape error\\n\", e)"
   ]
  },
  {
   "cell_type": "code",
   "execution_count": 61,
   "metadata": {},
   "outputs": [
    {
     "name": "stdout",
     "output_type": "stream",
     "text": [
      "[[1 3 4]\n",
      " [2 5 6]]\n",
      "shape error\n",
      " all the input arrays must have same number of dimensions, but the array at index 0 has 1 dimension(s) and the array at index 1 has 2 dimension(s)\n"
     ]
    }
   ],
   "source": [
    "y = np.array([[1],[2]])              #shape(2,1)\n",
    "z = np.array([[3,4], [5,6]])         #shape(2,2)\n",
    "error2 = np.array([1,2])             #shape(2,)  ---> shape(1,2) broadcast\n",
    "\n",
    "print(np.hstack((y,z))) #notic that the rows shape is what matters.\n",
    "\n",
    "try:\n",
    "    print(np.hstack((error2,x))) # (\"1\",2) + (\"2\",2)\n",
    "except Exception as e:\n",
    "    print(\"shape error\\n\", e)"
   ]
  },
  {
   "cell_type": "code",
   "execution_count": null,
   "metadata": {},
   "outputs": [],
   "source": []
  }
 ],
 "metadata": {
  "kernelspec": {
   "display_name": "Python 3",
   "language": "python",
   "name": "python3"
  },
  "language_info": {
   "codemirror_mode": {
    "name": "ipython",
    "version": 3
   },
   "file_extension": ".py",
   "mimetype": "text/x-python",
   "name": "python",
   "nbconvert_exporter": "python",
   "pygments_lexer": "ipython3",
   "version": "3.8.5"
  }
 },
 "nbformat": 4,
 "nbformat_minor": 4
}
