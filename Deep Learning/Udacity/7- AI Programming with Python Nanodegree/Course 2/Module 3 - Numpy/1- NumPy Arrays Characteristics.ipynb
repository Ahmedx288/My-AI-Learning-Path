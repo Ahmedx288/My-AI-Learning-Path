{
 "cells": [
  {
   "cell_type": "code",
   "execution_count": 1,
   "metadata": {},
   "outputs": [],
   "source": [
    "import timeit\n",
    "import numpy as np"
   ]
  },
  {
   "cell_type": "code",
   "execution_count": 4,
   "metadata": {},
   "outputs": [],
   "source": [
    "# Why use NumPy?\n",
    "import time\n",
    "import numpy as np"
   ]
  },
  {
   "cell_type": "code",
   "execution_count": 84,
   "metadata": {},
   "outputs": [
    {
     "name": "stdout",
     "output_type": "stream",
     "text": [
      "float64\n"
     ]
    }
   ],
   "source": [
    "x = np.random.random(100000000)"
   ]
  },
  {
   "cell_type": "code",
   "execution_count": 5,
   "metadata": {},
   "outputs": [
    {
     "name": "stdout",
     "output_type": "stream",
     "text": [
      "36.93174982070923\n"
     ]
    }
   ],
   "source": [
    "# Case 1\n",
    "start = time.time()\n",
    "sum(x) / len(x)\n",
    "print(time.time() - start)"
   ]
  },
  {
   "cell_type": "code",
   "execution_count": 19,
   "metadata": {},
   "outputs": [
    {
     "name": "stdout",
     "output_type": "stream",
     "text": [
      "0.17336535453796387\n"
     ]
    }
   ],
   "source": [
    "# Case 2\n",
    "start = time.time()\n",
    "np.mean(x)\n",
    "print(time.time() - start)"
   ]
  },
  {
   "cell_type": "code",
   "execution_count": 59,
   "metadata": {},
   "outputs": [],
   "source": [
    "def np_array_characteristics(array):\n",
    "    print(f'shape: {array.shape}\\nsize: {array.size}\\ndimensions (rank): {array.ndim}\\ndtype: {array.dtype}')"
   ]
  },
  {
   "cell_type": "markdown",
   "metadata": {},
   "source": [
    "# 1-D Array Characteristics"
   ]
  },
  {
   "cell_type": "code",
   "execution_count": 85,
   "metadata": {},
   "outputs": [
    {
     "name": "stdout",
     "output_type": "stream",
     "text": [
      "shape: (100000000,)\n",
      "size: 100000000\n",
      "dimensions (rank): 1\n",
      "dtype: float64\n"
     ]
    }
   ],
   "source": [
    "np_array_characteristics(x)"
   ]
  },
  {
   "cell_type": "code",
   "execution_count": 86,
   "metadata": {},
   "outputs": [
    {
     "name": "stdout",
     "output_type": "stream",
     "text": [
      "shape: (6,)\n",
      "size: 6\n",
      "dimensions (rank): 1\n",
      "dtype: int32\n"
     ]
    }
   ],
   "source": [
    "a = np.array([1, 2, 3, 4, 6, 4])\n",
    "np_array_characteristics(a)"
   ]
  },
  {
   "cell_type": "markdown",
   "metadata": {},
   "source": [
    "# 2-D Array Characteristics"
   ]
  },
  {
   "cell_type": "code",
   "execution_count": 61,
   "metadata": {},
   "outputs": [
    {
     "name": "stdout",
     "output_type": "stream",
     "text": [
      "[['1' '2' '3' '4' '5' '6']]\n",
      "shape: (1, 6)\n",
      "size: 6\n",
      "dimensions (rank): 2\n",
      "dtype: <U1\n"
     ]
    }
   ],
   "source": [
    "y = np.array([[\"1\",\"2\",\"3\",\"4\",\"5\",\"6\"]])\n",
    "print(y)\n",
    "np_array_characteristics(y)"
   ]
  },
  {
   "cell_type": "markdown",
   "metadata": {},
   "source": [
    "# 3-D Array Characteristic"
   ]
  },
  {
   "cell_type": "code",
   "execution_count": 76,
   "metadata": {},
   "outputs": [
    {
     "name": "stdout",
     "output_type": "stream",
     "text": [
      "[[[0. 0. 0. 0.]\n",
      "  [0. 0. 0. 0.]\n",
      "  [0. 0. 0. 0.]]\n",
      "\n",
      " [[0. 0. 0. 0.]\n",
      "  [0. 0. 0. 0.]\n",
      "  [0. 0. 0. 0.]]]\n",
      "shape: (2, 3, 4)\n",
      "size: 24\n",
      "dimensions (rank): 3\n",
      "dtype: float64\n"
     ]
    }
   ],
   "source": [
    "z = np.zeros((2, 3, 4))\n",
    "print(z)\n",
    "np_array_characteristics(z)"
   ]
  },
  {
   "cell_type": "markdown",
   "metadata": {},
   "source": [
    "# Mixed Array\n",
    "Numpy array unlike python lists enforces a single data type in any array\n",
    "* In case of ints and float the result is a float array **(upcasting)**\n",
    "* In case of any string in the list mixed with number the result is a unicode array (array of strings)"
   ]
  },
  {
   "cell_type": "code",
   "execution_count": 73,
   "metadata": {},
   "outputs": [
    {
     "name": "stdout",
     "output_type": "stream",
     "text": [
      "[1.  3.  4.3]\n",
      "shape: (3,)\n",
      "size: 3\n",
      "dimensions (rank): 1\n",
      "dtype: float64\n"
     ]
    }
   ],
   "source": [
    "mixed1 = np.array([1, 3, 4.3])\n",
    "print(mixed1)\n",
    "np_array_characteristics(mixed1)\n",
    "#Numpy upcasted the array elments to float64 automatically"
   ]
  },
  {
   "cell_type": "code",
   "execution_count": 75,
   "metadata": {},
   "outputs": [
    {
     "name": "stdout",
     "output_type": "stream",
     "text": [
      "['1' 's']\n",
      "shape: (2,)\n",
      "size: 2\n",
      "dimensions (rank): 1\n",
      "dtype: <U11\n"
     ]
    }
   ],
   "source": [
    "mixed2 = np.array([1, \"s\"])\n",
    "print(mixed2)\n",
    "np_array_characteristics(mixed2)\n",
    "#Numpy used unicode of 11 char for this array"
   ]
  },
  {
   "cell_type": "code",
   "execution_count": 78,
   "metadata": {},
   "outputs": [
    {
     "name": "stdout",
     "output_type": "stream",
     "text": [
      "[1 3 2]\n",
      "shape: (3,)\n",
      "size: 3\n",
      "dimensions (rank): 1\n",
      "dtype: int64\n"
     ]
    }
   ],
   "source": [
    "# Alternative way for the same result\n",
    "# enforced = np.array([1, 3.4 ,2], dtype=np.int64)\n",
    "enforced = np.array([1, 3.4 ,2]).astype(np.int64) #enforcing a specific datatype\n",
    "print(enforced)\n",
    "np_array_characteristics(enforced)"
   ]
  },
  {
   "cell_type": "markdown",
   "metadata": {},
   "source": [
    "# Saving & Loading Numpy Arrays"
   ]
  },
  {
   "cell_type": "code",
   "execution_count": 83,
   "metadata": {},
   "outputs": [
    {
     "name": "stdout",
     "output_type": "stream",
     "text": [
      "shape: (5,)\n",
      "size: 5\n",
      "dimensions (rank): 1\n",
      "dtype: int32\n"
     ]
    }
   ],
   "source": [
    "# We create a rank 1 ndarray\n",
    "to_save = np.array([1, 2, 3, 4, 5])\n",
    "\n",
    "# We save x into the current directory as \n",
    "np.save('my_array', to_save)\n",
    "\n",
    "np_array_characteristics(to_save)"
   ]
  },
  {
   "cell_type": "code",
   "execution_count": 82,
   "metadata": {},
   "outputs": [
    {
     "name": "stdout",
     "output_type": "stream",
     "text": [
      "[1 2 3 4 5]\n",
      "shape: (5,)\n",
      "size: 5\n",
      "dimensions (rank): 1\n",
      "dtype: int32\n"
     ]
    }
   ],
   "source": [
    "# We load the saved array from our current directory into variable y\n",
    "to_load = np.load('my_array.npy')\n",
    "print(to_load)\n",
    "np_array_characteristics(to_load)"
   ]
  }
 ],
 "metadata": {
  "kernelspec": {
   "display_name": "Python 3",
   "language": "python",
   "name": "python3"
  },
  "language_info": {
   "codemirror_mode": {
    "name": "ipython",
    "version": 3
   },
   "file_extension": ".py",
   "mimetype": "text/x-python",
   "name": "python",
   "nbconvert_exporter": "python",
   "pygments_lexer": "ipython3",
   "version": "3.8.5"
  }
 },
 "nbformat": 4,
 "nbformat_minor": 4
}
