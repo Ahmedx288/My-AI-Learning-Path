{
 "cells": [
  {
   "cell_type": "code",
   "execution_count": 2,
   "metadata": {},
   "outputs": [],
   "source": [
    "import pandas as pd"
   ]
  },
  {
   "cell_type": "markdown",
   "metadata": {},
   "source": [
    "# Difference between NumPy ndarrays and Pandas Series\n",
    "* You can assign an index label to each element in the Pandas Series. In other words, you can **name the indices of your Pandas Series** anything you want.\n",
    "* Pandas Series can **hold data of different data types**, unlike NumPy ndarrays.\n",
    "\n",
    "These are the main differences we should care about now, there are many other differences.\\\n",
    "With simple words, Panads Series is an array-like data structure similar to rank 1 numpy array."
   ]
  },
  {
   "cell_type": "markdown",
   "metadata": {},
   "source": [
    "# Creating a Series\n",
    "* **pd.Series(data, index):** data is just a regular list of items, index here is a list of labels for the indices. \n",
    "\n",
    "**_Note:_** if no indices labels are specified the defualt is numerical labels starting from 0 to len(Series)."
   ]
  },
  {
   "cell_type": "code",
   "execution_count": 8,
   "metadata": {},
   "outputs": [
    {
     "name": "stdout",
     "output_type": "stream",
     "text": [
      "eggs       30\n",
      "apples      6\n",
      "milk      Yes\n",
      "bread      No\n",
      "dtype: object \n",
      "___________\n",
      "\n",
      "0     30\n",
      "1      6\n",
      "2    Yes\n",
      "3     No\n",
      "dtype: object\n"
     ]
    }
   ],
   "source": [
    "# We create a Pandas Series that stores a grocery list\n",
    "groceries = pd.Series([30, 6, 'Yes', 'No'], index = ['eggs', 'apples', 'milk', 'bread'])\n",
    "groceries_no_labels = pd.Series([30, 6, 'Yes', 'No'])\n",
    "\n",
    "# We display the Groceries Pandas Series\n",
    "print(groceries, \"\\n___________\\n\")\n",
    "print(groceries_no_labels)"
   ]
  },
  {
   "cell_type": "markdown",
   "metadata": {},
   "source": [
    "# Series Characteristics\n",
    "Similar to NumPy arrays, Panads Series has attributes to give us information about the series."
   ]
  },
  {
   "cell_type": "code",
   "execution_count": 10,
   "metadata": {},
   "outputs": [
    {
     "name": "stdout",
     "output_type": "stream",
     "text": [
      "(4,)\n",
      "(4,)\n"
     ]
    }
   ],
   "source": [
    "# shape\n",
    "print(groceries.shape)\n",
    "print(groceries.shape)"
   ]
  },
  {
   "cell_type": "code",
   "execution_count": 11,
   "metadata": {},
   "outputs": [
    {
     "name": "stdout",
     "output_type": "stream",
     "text": [
      "1\n",
      "1\n"
     ]
    }
   ],
   "source": [
    "# dimensions\n",
    "print(groceries.ndim)\n",
    "print(groceries.ndim)"
   ]
  },
  {
   "cell_type": "code",
   "execution_count": 12,
   "metadata": {},
   "outputs": [
    {
     "name": "stdout",
     "output_type": "stream",
     "text": [
      "4\n",
      "4\n"
     ]
    }
   ],
   "source": [
    "#size\n",
    "print(groceries.size)\n",
    "print(groceries.size)"
   ]
  },
  {
   "cell_type": "code",
   "execution_count": 13,
   "metadata": {},
   "outputs": [
    {
     "name": "stdout",
     "output_type": "stream",
     "text": [
      "The data in Groceries is: Index(['eggs', 'apples', 'milk', 'bread'], dtype='object')\n",
      "The index of Groceries is: [30 6 'Yes' 'No']\n"
     ]
    }
   ],
   "source": [
    "# We print the index and data of Groceries\n",
    "print('The index in Groceries is:', groceries.index)\n",
    "print('The data of Groceries is:', groceries.values)"
   ]
  },
  {
   "cell_type": "code",
   "execution_count": 15,
   "metadata": {},
   "outputs": [
    {
     "name": "stdout",
     "output_type": "stream",
     "text": [
      "The index in Groceries (without labels) is: RangeIndex(start=0, stop=4, step=1)\n",
      "The data of Groceries (without labels) is: [30 6 'Yes' 'No']\n"
     ]
    }
   ],
   "source": [
    "# We print the index and data of Groceries\n",
    "print('The index in Groceries (without labels) is:', groceries_no_labels.index)\n",
    "print('The data of Groceries (without labels) is:', groceries_no_labels.values)"
   ]
  },
  {
   "cell_type": "markdown",
   "metadata": {},
   "source": [
    "# Check If an Index is Available in the Given Series\n",
    "Similar to a python dictionary or lists, you can use the operator `in` to check wether an index labels exists in Series."
   ]
  },
  {
   "cell_type": "code",
   "execution_count": 16,
   "metadata": {},
   "outputs": [
    {
     "name": "stdout",
     "output_type": "stream",
     "text": [
      "Is bananas an index label in Groceries: False\n",
      "Is bread an index label in Groceries: True\n"
     ]
    }
   ],
   "source": [
    "# We check whether bananas is a food item (an index) in Groceries\n",
    "x = 'bananas' in groceries\n",
    "\n",
    "# We check whether bread is a food item (an index) in Groceries\n",
    "y = 'bread' in groceries\n",
    "\n",
    "# We print the results\n",
    "print('Is bananas an index label in Groceries:', x)\n",
    "print('Is bread an index label in Groceries:', y)"
   ]
  }
 ],
 "metadata": {
  "kernelspec": {
   "display_name": "Python 3",
   "language": "python",
   "name": "python3"
  },
  "language_info": {
   "codemirror_mode": {
    "name": "ipython",
    "version": 3
   },
   "file_extension": ".py",
   "mimetype": "text/x-python",
   "name": "python",
   "nbconvert_exporter": "python",
   "pygments_lexer": "ipython3",
   "version": "3.8.5"
  }
 },
 "nbformat": 4,
 "nbformat_minor": 4
}
