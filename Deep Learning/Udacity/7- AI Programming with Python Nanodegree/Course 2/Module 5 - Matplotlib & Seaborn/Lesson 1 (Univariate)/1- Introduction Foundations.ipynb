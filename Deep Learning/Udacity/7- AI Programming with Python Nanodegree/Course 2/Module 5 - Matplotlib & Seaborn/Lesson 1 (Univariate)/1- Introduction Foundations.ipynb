{
 "cells": [
  {
   "cell_type": "markdown",
   "metadata": {},
   "source": [
    "# Univariate Visualizations\n",
    "One of the most common ways to describe a single variable is to draw its frequency distribution.\n",
    "* A frequency distribution of _numeric data_ is presented as a **histogram**.\n",
    "* A frequency distribution of _categorical data_ is presented as a **bar chart**."
   ]
  },
  {
   "cell_type": "markdown",
   "metadata": {},
   "source": [
    "## Histograms\n",
    "* Create histograms for quantitative (numeric) variables.\n",
    "\n",
    "A histogram splits the (tabular) data into evenly sized intervals and displays the count of rows in each interval with bars.\\\n",
    "**Another Defination:** When plotting a continuous variable, it is first divided into intervals that are called bins, and any data sample that belongs to the group is allocated to it.\n",
    "\n",
    "A histogram is similar to a bar chart, except that the \"category\" here is a range of values.\n",
    "\n",
    "**For example:** In the following frequency histogram, the age variable was divided into six groups/bins. Ages 1 - 5 are allocated to the first bin, 5 - 9 are allocated to the second bin, and so on. Then, the count of each group is displayed by using graph bars."
   ]
  },
  {
   "cell_type": "markdown",
   "metadata": {},
   "source": [
    "<img src='Images/histogram-graph-ages.png'></img>"
   ]
  },
  {
   "cell_type": "markdown",
   "metadata": {},
   "source": [
    "## Bar Charts\n",
    "* Create bar charts for qualitative (categorical) variables.\n",
    "\n",
    "A bar chart depicts the distribution of a categorical variable. In a bar chart, each level of the categorical variable is depicted with a bar, whose height indicates the frequency of data points that take on that level.\n",
    "\n",
    "**For example:** the number of fruits in each type presented (categories: Apple, Orange, Banana, Kiwifruit, Vlueberry, Grapes).\\\n",
    "**In general, bar chart maps categories to numbers.**"
   ]
  },
  {
   "cell_type": "markdown",
   "metadata": {},
   "source": [
    "<img src='Images/bar-graph-fruit.png'></img>"
   ]
  },
  {
   "cell_type": "markdown",
   "metadata": {},
   "source": [
    "## Pie Charts\n",
    "\n",
    "* Create Pie charts to see the proportion of each category.\n",
    "\n",
    "A pie chart is preferably used when the number of categories is less."
   ]
  },
  {
   "cell_type": "markdown",
   "metadata": {},
   "source": [
    "<img src='Images/pie_percent.png' width=\"50%\"></img>"
   ]
  },
  {
   "cell_type": "markdown",
   "metadata": {},
   "source": [
    "# Tidy Data"
   ]
  },
  {
   "cell_type": "markdown",
   "metadata": {},
   "source": [
    "In short, a tidy dataset is a tabular dataset where:\n",
    "* Each variable is a column.\n",
    "* Each observation is a row.\n",
    "* Each type of observational unit is a table.\n",
    "\n",
    "A Database-like format."
   ]
  },
  {
   "cell_type": "markdown",
   "metadata": {},
   "source": [
    "<img src='Images/tidy-data-one.png' width=\"50%\"></img>"
   ]
  },
  {
   "cell_type": "markdown",
   "metadata": {},
   "source": [
    "<img src='Images/tidy-data-two.png' width=\"50%\"></img>"
   ]
  },
  {
   "cell_type": "markdown",
   "metadata": {},
   "source": [
    "<img src='Images/tidy-data-three.png' width=\"50%\"></img>"
   ]
  },
  {
   "cell_type": "markdown",
   "metadata": {},
   "source": [
    "# Non-Tidy Data\n",
    "The next image depicts the same data but in one representation of a non-tidy format.\\\n",
    "**Note:** there are other possible non-tidy representations."
   ]
  },
  {
   "cell_type": "markdown",
   "metadata": {},
   "source": [
    "<img src='Images/tidy-data-four.png' width=\"50%\"></img>"
   ]
  },
  {
   "cell_type": "markdown",
   "metadata": {},
   "source": [
    "The Drug A, Drug B, and Drug C columns should form one 'Drug' column, since this is one variable.\\\n",
    "The entire table should be separated into two tables: a patients table and a treatments table."
   ]
  },
  {
   "cell_type": "markdown",
   "metadata": {},
   "source": [
    "While the data provided to you in the course will all be tidy, in practice, you may need to perform tidying work before exploration.\n",
    "\n",
    "You should be comfortable with reshaping your data or perform transformations to split or combine features in your data, resulting in new data columns.\n",
    "\n",
    "**These operations collectively are called data-wrangling.**\n",
    "\n",
    "This is also not to say that tidy data is the only useful form that data can take.\\\n",
    "In fact, as you work with a dataset, you might need to summarize it in a non-tidy form in order to generate appropriate visualizations."
   ]
  }
 ],
 "metadata": {
  "kernelspec": {
   "display_name": "Python 3",
   "language": "python",
   "name": "python3"
  },
  "language_info": {
   "codemirror_mode": {
    "name": "ipython",
    "version": 3
   },
   "file_extension": ".py",
   "mimetype": "text/x-python",
   "name": "python",
   "nbconvert_exporter": "python",
   "pygments_lexer": "ipython3",
   "version": "3.8.5"
  }
 },
 "nbformat": 4,
 "nbformat_minor": 4
}
